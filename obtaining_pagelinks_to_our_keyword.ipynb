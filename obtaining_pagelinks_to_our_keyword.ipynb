{
 "cells": [
  {
   "cell_type": "code",
   "execution_count": 1,
   "id": "dc3cb8b1",
   "metadata": {},
   "outputs": [],
   "source": [
    "import numpy as np\n",
    "import pandas as pd\n",
    "import requests\n",
    "from bs4 import BeautifulSoup\n",
    "\n",
    "#read csv data for college names\n",
    "college_names = pd.read_csv(\"list_of_colleges_for_scraping.csv\", usecols=['urls'])\n"
   ]
  },
  {
   "cell_type": "code",
   "execution_count": 2,
   "id": "93b9de74",
   "metadata": {},
   "outputs": [
    {
     "data": {
      "text/html": [
       "<div>\n",
       "<style scoped>\n",
       "    .dataframe tbody tr th:only-of-type {\n",
       "        vertical-align: middle;\n",
       "    }\n",
       "\n",
       "    .dataframe tbody tr th {\n",
       "        vertical-align: top;\n",
       "    }\n",
       "\n",
       "    .dataframe thead th {\n",
       "        text-align: right;\n",
       "    }\n",
       "</style>\n",
       "<table border=\"1\" class=\"dataframe\">\n",
       "  <thead>\n",
       "    <tr style=\"text-align: right;\">\n",
       "      <th></th>\n",
       "      <th>urls</th>\n",
       "    </tr>\n",
       "  </thead>\n",
       "  <tbody>\n",
       "    <tr>\n",
       "      <th>0</th>\n",
       "      <td>https://ves.ac.in/polytechnic/</td>\n",
       "    </tr>\n",
       "    <tr>\n",
       "      <th>1</th>\n",
       "      <td>https://mite.ac.in/</td>\n",
       "    </tr>\n",
       "    <tr>\n",
       "      <th>2</th>\n",
       "      <td>https://bcrec.ac.in/</td>\n",
       "    </tr>\n",
       "    <tr>\n",
       "      <th>3</th>\n",
       "      <td>https://siiet.ac.in/</td>\n",
       "    </tr>\n",
       "    <tr>\n",
       "      <th>4</th>\n",
       "      <td>https://rmkcet.ac.in/</td>\n",
       "    </tr>\n",
       "  </tbody>\n",
       "</table>\n",
       "</div>"
      ],
      "text/plain": [
       "                             urls\n",
       "0  https://ves.ac.in/polytechnic/\n",
       "1             https://mite.ac.in/\n",
       "2            https://bcrec.ac.in/\n",
       "3            https://siiet.ac.in/\n",
       "4           https://rmkcet.ac.in/"
      ]
     },
     "execution_count": 2,
     "metadata": {},
     "output_type": "execute_result"
    }
   ],
   "source": [
    "college_names.head()"
   ]
  },
  {
   "cell_type": "code",
   "execution_count": 3,
   "id": "7e9ae346",
   "metadata": {},
   "outputs": [
    {
     "data": {
      "text/plain": [
       "(9, 1)"
      ]
     },
     "execution_count": 3,
     "metadata": {},
     "output_type": "execute_result"
    }
   ],
   "source": [
    "college_names.shape"
   ]
  },
  {
   "cell_type": "code",
   "execution_count": 4,
   "id": "02d7f535",
   "metadata": {},
   "outputs": [
    {
     "name": "stdout",
     "output_type": "stream",
     "text": [
      "Error occurred for https://ves.ac.in/polytechnic/: HTTPSConnectionPool(host='mahadbtmahait.gov.in', port=443): Max retries exceeded with url: / (Caused by SSLError(SSLCertVerificationError(1, '[SSL: CERTIFICATE_VERIFY_FAILED] certificate verify failed: certificate has expired (_ssl.c:1125)')))\n",
      "Modrob information found at https://mite.ac.in/naac/ for https://mite.ac.in/\n",
      "Modrob information found at https://mite.ac.in/aqar/ for https://mite.ac.in/\n",
      "Modrob information found at https://mite.ac.in/strategic-plan-deployment/ for https://mite.ac.in/\n",
      "Modrob information found at https://mite.ac.in/strategic-plan-deployment/ for https://mite.ac.in/\n",
      "Modrob information found at https://mite.ac.in/aeronautical-engineering/ for https://mite.ac.in/\n",
      "Modrob information found at https://mite.ac.in/mechanical-engineering/ for https://mite.ac.in/\n",
      "Modrob information found at https://mite.ac.in/academics-research/ for https://mite.ac.in/\n",
      "Modrob information found at https://mite.ac.in/academics-research/ for https://mite.ac.in/\n",
      "Error occurred for https://mite.ac.in/: HTTPConnectionPool(host='educationnews24x7.com', port=80): Max retries exceeded with url: /mite/ (Caused by NewConnectionError('<urllib3.connection.HTTPConnection object at 0x0000015670BD9A90>: Failed to establish a new connection: [Errno 11001] getaddrinfo failed'))\n"
     ]
    },
    {
     "name": "stderr",
     "output_type": "stream",
     "text": [
      "Some characters could not be decoded, and were replaced with REPLACEMENT CHARACTER.\n",
      "Some characters could not be decoded, and were replaced with REPLACEMENT CHARACTER.\n",
      "Some characters could not be decoded, and were replaced with REPLACEMENT CHARACTER.\n"
     ]
    },
    {
     "name": "stdout",
     "output_type": "stream",
     "text": [
      "Modrob information found at https://bcrec.ac.in/noticeboard.htm for https://bcrec.ac.in/\n"
     ]
    },
    {
     "name": "stderr",
     "output_type": "stream",
     "text": [
      "Some characters could not be decoded, and were replaced with REPLACEMENT CHARACTER.\n",
      "Some characters could not be decoded, and were replaced with REPLACEMENT CHARACTER.\n",
      "Some characters could not be decoded, and were replaced with REPLACEMENT CHARACTER.\n",
      "Some characters could not be decoded, and were replaced with REPLACEMENT CHARACTER.\n",
      "Some characters could not be decoded, and were replaced with REPLACEMENT CHARACTER.\n",
      "Some characters could not be decoded, and were replaced with REPLACEMENT CHARACTER.\n"
     ]
    },
    {
     "name": "stdout",
     "output_type": "stream",
     "text": [
      "Error occurred for https://bcrec.ac.in/: HTTPConnectionPool(host='www.bcrecalumni.org', port=80): Max retries exceeded with url: / (Caused by NewConnectionError('<urllib3.connection.HTTPConnection object at 0x000001566E90DC70>: Failed to establish a new connection: [Errno 11001] getaddrinfo failed'))\n",
      "Modrob information found at https://rmkcet.ac.in/index.php for https://rmkcet.ac.in/\n"
     ]
    },
    {
     "name": "stderr",
     "output_type": "stream",
     "text": [
      "Some characters could not be decoded, and were replaced with REPLACEMENT CHARACTER.\n"
     ]
    },
    {
     "name": "stdout",
     "output_type": "stream",
     "text": [
      "Modrob information found at https://rmkcet.ac.in/eee-department.php for https://rmkcet.ac.in/\n",
      "Modrob information found at https://rmkcet.ac.in/# for https://rmkcet.ac.in/\n"
     ]
    },
    {
     "name": "stderr",
     "output_type": "stream",
     "text": [
      "Some characters could not be decoded, and were replaced with REPLACEMENT CHARACTER.\n",
      "Some characters could not be decoded, and were replaced with REPLACEMENT CHARACTER.\n",
      "Some characters could not be decoded, and were replaced with REPLACEMENT CHARACTER.\n",
      "Some characters could not be decoded, and were replaced with REPLACEMENT CHARACTER.\n",
      "Some characters could not be decoded, and were replaced with REPLACEMENT CHARACTER.\n",
      "Some characters could not be decoded, and were replaced with REPLACEMENT CHARACTER.\n",
      "Some characters could not be decoded, and were replaced with REPLACEMENT CHARACTER.\n",
      "Some characters could not be decoded, and were replaced with REPLACEMENT CHARACTER.\n",
      "Some characters could not be decoded, and were replaced with REPLACEMENT CHARACTER.\n",
      "Some characters could not be decoded, and were replaced with REPLACEMENT CHARACTER.\n",
      "Some characters could not be decoded, and were replaced with REPLACEMENT CHARACTER.\n",
      "Some characters could not be decoded, and were replaced with REPLACEMENT CHARACTER.\n",
      "Some characters could not be decoded, and were replaced with REPLACEMENT CHARACTER.\n",
      "Some characters could not be decoded, and were replaced with REPLACEMENT CHARACTER.\n",
      "Some characters could not be decoded, and were replaced with REPLACEMENT CHARACTER.\n",
      "Some characters could not be decoded, and were replaced with REPLACEMENT CHARACTER.\n",
      "Some characters could not be decoded, and were replaced with REPLACEMENT CHARACTER.\n",
      "Some characters could not be decoded, and were replaced with REPLACEMENT CHARACTER.\n",
      "Some characters could not be decoded, and were replaced with REPLACEMENT CHARACTER.\n",
      "Some characters could not be decoded, and were replaced with REPLACEMENT CHARACTER.\n",
      "Some characters could not be decoded, and were replaced with REPLACEMENT CHARACTER.\n"
     ]
    },
    {
     "name": "stdout",
     "output_type": "stream",
     "text": [
      "Modrob information found at https://rmkcet.ac.in/eee-department.php for https://rmkcet.ac.in/\n"
     ]
    },
    {
     "name": "stderr",
     "output_type": "stream",
     "text": [
      "Some characters could not be decoded, and were replaced with REPLACEMENT CHARACTER.\n",
      "Some characters could not be decoded, and were replaced with REPLACEMENT CHARACTER.\n",
      "Some characters could not be decoded, and were replaced with REPLACEMENT CHARACTER.\n",
      "Some characters could not be decoded, and were replaced with REPLACEMENT CHARACTER.\n",
      "Some characters could not be decoded, and were replaced with REPLACEMENT CHARACTER.\n"
     ]
    },
    {
     "name": "stdout",
     "output_type": "stream",
     "text": [
      "Modrob information found at https://rmkcet.ac.in/#top for https://rmkcet.ac.in/\n",
      "Modrob information found at https://nitpoly.edu.in/index.php for https://nitpoly.edu.in/\n",
      "Modrob information found at https://nitpoly.edu.in/# for https://nitpoly.edu.in/\n",
      "Modrob information found at https://nitpoly.edu.in/index.php for https://nitpoly.edu.in/\n",
      "Modrob information found at https://nitpoly.edu.in/abt-institute.php for https://nitpoly.edu.in/\n",
      "Modrob information found at https://nitpoly.edu.in/abt-sanstha.php for https://nitpoly.edu.in/\n",
      "Modrob information found at https://nitpoly.edu.in/executive-committee.php for https://nitpoly.edu.in/\n",
      "Modrob information found at https://nitpoly.edu.in/abt-governing-board.php for https://nitpoly.edu.in/\n",
      "Modrob information found at https://nitpoly.edu.in/certificate.php for https://nitpoly.edu.in/\n",
      "Modrob information found at https://nitpoly.edu.in/vision-mission.php for https://nitpoly.edu.in/\n"
     ]
    },
    {
     "name": "stderr",
     "output_type": "stream",
     "text": [
      "Some characters could not be decoded, and were replaced with REPLACEMENT CHARACTER.\n"
     ]
    },
    {
     "name": "stdout",
     "output_type": "stream",
     "text": [
      "Modrob information found at https://nitpoly.edu.in/courses-offered.php for https://nitpoly.edu.in/\n",
      "Modrob information found at https://nitpoly.edu.in/eligibility-criteria.php for https://nitpoly.edu.in/\n",
      "Modrob information found at https://nitpoly.edu.in/list-of-documents.php for https://nitpoly.edu.in/\n",
      "Modrob information found at https://nitpoly.edu.in/admission-process.php for https://nitpoly.edu.in/\n",
      "Modrob information found at https://nitpoly.edu.in/conduct-and-discipline.php for https://nitpoly.edu.in/\n",
      "Modrob information found at https://nitpoly.edu.in/fee-structure.php for https://nitpoly.edu.in/\n",
      "Modrob information found at https://nitpoly.edu.in/admission-enquiry.php for https://nitpoly.edu.in/\n",
      "Modrob information found at https://nitpoly.edu.in/computer-engineering.php for https://nitpoly.edu.in/\n",
      "Modrob information found at https://nitpoly.edu.in/mechanical-engineering.php for https://nitpoly.edu.in/\n",
      "Modrob information found at https://nitpoly.edu.in/electrical-engineering.php for https://nitpoly.edu.in/\n",
      "Modrob information found at https://nitpoly.edu.in/civil-engineering.php for https://nitpoly.edu.in/\n",
      "Modrob information found at https://nitpoly.edu.in/electronics-and-telecommunication-engineering.php for https://nitpoly.edu.in/\n"
     ]
    },
    {
     "name": "stderr",
     "output_type": "stream",
     "text": [
      "Some characters could not be decoded, and were replaced with REPLACEMENT CHARACTER.\n",
      "Some characters could not be decoded, and were replaced with REPLACEMENT CHARACTER.\n",
      "Some characters could not be decoded, and were replaced with REPLACEMENT CHARACTER.\n",
      "Some characters could not be decoded, and were replaced with REPLACEMENT CHARACTER.\n",
      "Some characters could not be decoded, and were replaced with REPLACEMENT CHARACTER.\n",
      "Some characters could not be decoded, and were replaced with REPLACEMENT CHARACTER.\n",
      "Some characters could not be decoded, and were replaced with REPLACEMENT CHARACTER.\n"
     ]
    },
    {
     "name": "stdout",
     "output_type": "stream",
     "text": [
      "Modrob information found at https://nitpoly.edu.in/alumni.php for https://nitpoly.edu.in/\n",
      "Modrob information found at https://nitpoly.edu.in/alumni-objective.php for https://nitpoly.edu.in/\n",
      "Error occurred for https://nitpoly.edu.in/: HTTPConnectionPool(host='123.63.236.107', port=80): Max retries exceeded with url: / (Caused by NewConnectionError('<urllib3.connection.HTTPConnection object at 0x000001566FB1F3A0>: Failed to establish a new connection: [WinError 10060] A connection attempt failed because the connected party did not properly respond after a period of time, or established connection failed because connected host has failed to respond'))\n"
     ]
    },
    {
     "name": "stderr",
     "output_type": "stream",
     "text": [
      "Some characters could not be decoded, and were replaced with REPLACEMENT CHARACTER.\n",
      "Some characters could not be decoded, and were replaced with REPLACEMENT CHARACTER.\n",
      "Some characters could not be decoded, and were replaced with REPLACEMENT CHARACTER.\n",
      "Some characters could not be decoded, and were replaced with REPLACEMENT CHARACTER.\n",
      "Some characters could not be decoded, and were replaced with REPLACEMENT CHARACTER.\n",
      "Some characters could not be decoded, and were replaced with REPLACEMENT CHARACTER.\n",
      "Some characters could not be decoded, and were replaced with REPLACEMENT CHARACTER.\n",
      "Some characters could not be decoded, and were replaced with REPLACEMENT CHARACTER.\n"
     ]
    },
    {
     "name": "stdout",
     "output_type": "stream",
     "text": [
      "Error occurred for https://cmrtc.ac.in/: HTTPSConnectionPool(host='www.ascci.in', port=443): Max retries exceeded with url: / (Caused by NewConnectionError('<urllib3.connection.HTTPSConnection object at 0x000001566EA3F8E0>: Failed to establish a new connection: [Errno 11001] getaddrinfo failed'))\n",
      "Modrob information found at https://ncet.co.in/programs-offered/ug-courses/electronics-communication-engineering/ for https://ncet.co.in/\n",
      "Modrob information found at https://ncet.co.in/programs-offered/ug-courses/civil-engineering/ for https://ncet.co.in/\n",
      "Modrob information found at https://ncet.co.in/programs-offered/pg-courses/m-tech-construction-technology/ for https://ncet.co.in/\n",
      "Modrob information found at https://ncet.co.in/programs-offered/pg-courses/m-tech-structural-engineering/ for https://ncet.co.in/\n",
      "Modrob information found at https://ncet.co.in/programs-offered/ug-courses/electronics-communication-engineering/ for https://ncet.co.in/\n",
      "Modrob information found at https://ncet.co.in/programs-offered/ug-courses/civil-engineering/ for https://ncet.co.in/\n",
      "Modrob information found at https://ncet.co.in/programs-offered/pg-courses/m-tech-construction-technology/ for https://ncet.co.in/\n",
      "Modrob information found at https://ncet.co.in/programs-offered/pg-courses/m-tech-structural-engineering/ for https://ncet.co.in/\n"
     ]
    },
    {
     "name": "stderr",
     "output_type": "stream",
     "text": [
      "Some characters could not be decoded, and were replaced with REPLACEMENT CHARACTER.\n",
      "Some characters could not be decoded, and were replaced with REPLACEMENT CHARACTER.\n",
      "Some characters could not be decoded, and were replaced with REPLACEMENT CHARACTER.\n",
      "Some characters could not be decoded, and were replaced with REPLACEMENT CHARACTER.\n",
      "Some characters could not be decoded, and were replaced with REPLACEMENT CHARACTER.\n",
      "Some characters could not be decoded, and were replaced with REPLACEMENT CHARACTER.\n",
      "Some characters could not be decoded, and were replaced with REPLACEMENT CHARACTER.\n",
      "Some characters could not be decoded, and were replaced with REPLACEMENT CHARACTER.\n",
      "Some characters could not be decoded, and were replaced with REPLACEMENT CHARACTER.\n",
      "Some characters could not be decoded, and were replaced with REPLACEMENT CHARACTER.\n",
      "Some characters could not be decoded, and were replaced with REPLACEMENT CHARACTER.\n",
      "Some characters could not be decoded, and were replaced with REPLACEMENT CHARACTER.\n",
      "Some characters could not be decoded, and were replaced with REPLACEMENT CHARACTER.\n",
      "Some characters could not be decoded, and were replaced with REPLACEMENT CHARACTER.\n",
      "Some characters could not be decoded, and were replaced with REPLACEMENT CHARACTER.\n",
      "Some characters could not be decoded, and were replaced with REPLACEMENT CHARACTER.\n",
      "Some characters could not be decoded, and were replaced with REPLACEMENT CHARACTER.\n",
      "Some characters could not be decoded, and were replaced with REPLACEMENT CHARACTER.\n",
      "Some characters could not be decoded, and were replaced with REPLACEMENT CHARACTER.\n",
      "Some characters could not be decoded, and were replaced with REPLACEMENT CHARACTER.\n",
      "Some characters could not be decoded, and were replaced with REPLACEMENT CHARACTER.\n",
      "Some characters could not be decoded, and were replaced with REPLACEMENT CHARACTER.\n",
      "Some characters could not be decoded, and were replaced with REPLACEMENT CHARACTER.\n",
      "Some characters could not be decoded, and were replaced with REPLACEMENT CHARACTER.\n",
      "Some characters could not be decoded, and were replaced with REPLACEMENT CHARACTER.\n",
      "Some characters could not be decoded, and were replaced with REPLACEMENT CHARACTER.\n",
      "Some characters could not be decoded, and were replaced with REPLACEMENT CHARACTER.\n",
      "Some characters could not be decoded, and were replaced with REPLACEMENT CHARACTER.\n",
      "Some characters could not be decoded, and were replaced with REPLACEMENT CHARACTER.\n",
      "Some characters could not be decoded, and were replaced with REPLACEMENT CHARACTER.\n",
      "Some characters could not be decoded, and were replaced with REPLACEMENT CHARACTER.\n",
      "Some characters could not be decoded, and were replaced with REPLACEMENT CHARACTER.\n",
      "Some characters could not be decoded, and were replaced with REPLACEMENT CHARACTER.\n"
     ]
    },
    {
     "name": "stdout",
     "output_type": "stream",
     "text": [
      "Error occurred for https://www.nit.ac.in/: HTTPSConnectionPool(host='www.jisgroup.net', port=443): Max retries exceeded with url: /Enquiry/Forms/frmRegistration.aspx?CL=2 (Caused by SSLError(SSLCertVerificationError(\"hostname 'www.jisgroup.net' doesn't match 'jisgroup.net'\")))\n"
     ]
    }
   ],
   "source": [
    "import requests\n",
    "from bs4 import BeautifulSoup\n",
    "\n",
    "college_urls = college_names[\"urls\"].tolist()\n",
    "\n",
    "\n",
    "\n",
    "modrob_keyword = \"modrob\"\n",
    "\n",
    "for college_url in college_urls:\n",
    "    try:\n",
    "        # Send a GET request to the college URL\n",
    "        response = requests.get(college_url)\n",
    "        # Create a BeautifulSoup object to parse the HTML content\n",
    "        soup = BeautifulSoup(response.content, 'html.parser')\n",
    "        # Find all the links on the page\n",
    "        links = soup.find_all('a')\n",
    "        # Loop through all the links\n",
    "        for link in links:\n",
    "            # Get the URL of the link\n",
    "            href = link.get('href')\n",
    "            # Make sure the URL is not None and not empty\n",
    "            if href:\n",
    "                # If the URL is a relative URL, add the base URL\n",
    "                if not href.startswith('http'):\n",
    "                    href = college_url + href\n",
    "                # Send a GET request to the link URL\n",
    "                link_response = requests.get(href)\n",
    "                # Create a BeautifulSoup object to parse the HTML content of the link\n",
    "                link_soup = BeautifulSoup(link_response.content, 'html.parser')\n",
    "                # Find all the text on the page and check if it contains the word \"modrob\"\n",
    "                if modrob_keyword in link_soup.text.lower():\n",
    "                    print(f\"Modrob information found at {href} for {college_url}\")\n",
    "    except requests.exceptions.RequestException as e:\n",
    "        print(f\"Error occurred for {college_url}: {e}\")\n",
    "        continue"
   ]
  },
  {
   "cell_type": "code",
   "execution_count": null,
   "id": "7a9c15fd",
   "metadata": {},
   "outputs": [],
   "source": []
  }
 ],
 "metadata": {
  "kernelspec": {
   "display_name": "Python 3",
   "language": "python",
   "name": "python3"
  },
  "language_info": {
   "codemirror_mode": {
    "name": "ipython",
    "version": 3
   },
   "file_extension": ".py",
   "mimetype": "text/x-python",
   "name": "python",
   "nbconvert_exporter": "python",
   "pygments_lexer": "ipython3",
   "version": "3.8.8"
  }
 },
 "nbformat": 4,
 "nbformat_minor": 5
}
